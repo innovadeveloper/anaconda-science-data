{
 "cells": [
  {
   "cell_type": "markdown",
   "id": "14dcba41-87fc-4085-818b-944284c8c4b1",
   "metadata": {},
   "source": [
    "# Importando librerías y recursos externos"
   ]
  },
  {
   "cell_type": "code",
   "execution_count": 2,
   "id": "344e60c6-6855-48c9-a23d-709e5fa7b599",
   "metadata": {},
   "outputs": [],
   "source": [
    "import pandas as pd\n",
    "import json\n",
    "from sklearn.model_selection import train_test_split\n",
    "from sklearn.linear_model import LinearRegression\n",
    "from sklearn.metrics import mean_squared_error\n",
    "\n",
    "historical_data = '/home/jovyan/work/assets/tabla_datos.json'\n",
    "# Carga el archivo JSON\n",
    "with open(historical_data, 'r') as file:\n",
    "    data = json.load(file)\n",
    "\n",
    "# Convierte los datos a un DataFrame\n",
    "df = pd.DataFrame(data)\n",
    "\n",
    "# Imprime el DataFrame\n",
    "# print(df)"
   ]
  },
  {
   "cell_type": "code",
   "execution_count": 3,
   "id": "33cc4fdc-8820-491a-842c-cb2613fc96af",
   "metadata": {},
   "outputs": [
    {
     "name": "stdout",
     "output_type": "stream",
     "text": [
      "Error cuadrático medio: 794.7753304104921\n",
      "Predicciones: [1567.25043632 1586.15724204 1598.75168522 1608.14215578 1555.23887374\n",
      " 1665.71704238 1710.96884104 1588.46793102 1681.76117638 1393.74428413\n",
      " 1524.9067548  1605.19796029 1685.83388431 1752.59153498 1559.41456269\n",
      " 1672.23375909 1550.51324369 1635.13454419 1527.58224103 1602.1979332\n",
      " 1728.72062126 2002.57300058 1436.75024096 1473.92221545 1751.71005906\n",
      " 1227.69295304 2064.50882546 1905.73706746 1753.86010218 2005.9441798\n",
      " 1404.18770549 1452.65451872 1774.66553114 1759.98654522 1608.41401831\n",
      " 1526.23406846 1769.79489347 2060.05195952 2056.2853742  1761.38669058\n",
      " 1471.86292458 2089.92480364 1564.61363678 1761.38533635 1609.28352391\n",
      " 1385.54959714 1477.74144573 2034.36084564 1662.98860241 1740.89336838\n",
      " 1668.67266497]\n",
      "Coeficientes: [9.94137594e-01 1.35422828e-05]\n",
      "Intercepto: 7.636423709566316\n"
     ]
    }
   ],
   "source": [
    "\n",
    "# Renombrar la columna 'Close    Close price adjusted for splits.' a 'Close' para simplificar\n",
    "df = df.rename(columns={\"Close    Close price adjusted for splits.\": \"Close\"})\n",
    "\n",
    "# Convertir las columnas numéricas a tipo float después de remover las comas\n",
    "df['Open'] = df['Open'].str.replace(',', '').astype(float)\n",
    "df['Volume'] = df['Volume'].str.replace(',', '').astype(float)\n",
    "df['Close'] = df['Close'].str.replace(',', '').astype(float)\n",
    "\n",
    "# Definir las variables independientes (features) y dependiente (target)\n",
    "X = df[['Open', 'Volume']]\n",
    "y = df['Close']\n",
    "\n",
    "# Separar los datos en conjuntos de entrenamiento y prueba\n",
    "X_train, X_test, y_train, y_test = train_test_split(X, y, test_size=0.2, random_state=0)\n",
    "\n",
    "# Crear el modelo de regresión lineal\n",
    "model = LinearRegression()\n",
    "model.fit(X_train, y_train)\n",
    "\n",
    "# Hacer predicciones en el conjunto de prueba\n",
    "y_pred = model.predict(X_test)\n",
    "\n",
    "# Evaluar el modelo\n",
    "mse = mean_squared_error(y_test, y_pred)\n",
    "print(\"Error cuadrático medio:\", mse)\n",
    "print(\"Predicciones:\", y_pred)\n",
    "\n",
    "# Opcional: Ver los coeficientes del modelo\n",
    "print(\"Coeficientes:\", model.coef_)\n",
    "print(\"Intercepto:\", model.intercept_)"
   ]
  },
  {
   "cell_type": "markdown",
   "id": "b52bac7b-6f89-40b6-b950-db5aab0cf523",
   "metadata": {},
   "source": [
    "# Explicación de los valores resultantes \n",
    "Carga de datos: Creamos el DataFrame df a partir del JSON.\n",
    "Limpieza de datos: Eliminamos las comas en los valores numéricos de Open, Volume y Close y los convertimos a float.\n",
    "Definición de variables: X contiene Open y Volume, y y es la variable Close que queremos predecir.\n",
    "División de datos: Usamos train_test_split para dividir los datos en conjuntos de entrenamiento y prueba.\n",
    "Entrenamiento del modelo: Entrenamos el modelo de regresión lineal con LinearRegression().\n",
    "Evaluación: Calculamos el error cuadrático medio para evaluar el modelo y mostramos las predicciones.\n",
    "Coeficientes: Los coeficientes e intercepto del modelo indican la relación de cada variable independiente con el Close.\n"
   ]
  },
  {
   "cell_type": "code",
   "execution_count": null,
   "id": "8cc59cd7-7e76-4c7d-92e0-1e552dbfd33d",
   "metadata": {},
   "outputs": [],
   "source": []
  }
 ],
 "metadata": {
  "kernelspec": {
   "display_name": "Python 3 (ipykernel)",
   "language": "python",
   "name": "python3"
  },
  "language_info": {
   "codemirror_mode": {
    "name": "ipython",
    "version": 3
   },
   "file_extension": ".py",
   "mimetype": "text/x-python",
   "name": "python",
   "nbconvert_exporter": "python",
   "pygments_lexer": "ipython3",
   "version": "3.12.7"
  }
 },
 "nbformat": 4,
 "nbformat_minor": 5
}
